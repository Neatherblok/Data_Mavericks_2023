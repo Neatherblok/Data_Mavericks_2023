{
  "nbformat": 4,
  "nbformat_minor": 0,
  "metadata": {
    "colab": {
      "provenance": []
    },
    "kernelspec": {
      "name": "python3",
      "display_name": "Python 3"
    },
    "language_info": {
      "name": "python"
    }
  },
  "cells": [
    {
      "cell_type": "code",
      "source": [
        "# IMPORT LIBRARIES\n",
        "\n",
        "import pandas as pd\n",
        "import glob\n",
        "import os"
      ],
      "metadata": {
        "id": "n_bK2yzEY2-J"
      },
      "execution_count": null,
      "outputs": []
    },
    {
      "cell_type": "code",
      "execution_count": null,
      "metadata": {
        "id": "wsh9e762XN0w"
      },
      "outputs": [],
      "source": [
        "# Save all CSV filenames in an array\n",
        "all_files = glob.glob(f\"/content/*.csv\")\n",
        "\n",
        "print(all_files)"
      ]
    },
    {
      "cell_type": "code",
      "source": [
        "# Get all dataframes and save in array \"li\"\n",
        "li = []\n",
        "\n",
        "for filename in all_files:\n",
        "    df = pd.read_csv(filename, index_col=None, header=0)\n",
        "    li.append(df)\n",
        "\n",
        "print(li)"
      ],
      "metadata": {
        "id": "WbTiz7SzZL4H"
      },
      "execution_count": null,
      "outputs": []
    },
    {
      "cell_type": "code",
      "source": [
        "# Merge all product dataframes in one dataframe\n",
        "frame = pd.concat(li, axis=0, ignore_index=True)\n",
        "\n",
        "frame.shape"
      ],
      "metadata": {
        "id": "5WdaLwfNZJ9T"
      },
      "execution_count": null,
      "outputs": []
    },
    {
      "cell_type": "code",
      "source": [
        "# Save dataframe to CSV\n",
        "frame.to_csv('/content/all_products.csv', index=False)"
      ],
      "metadata": {
        "id": "WeD3aZXfYuHz"
      },
      "execution_count": 13,
      "outputs": []
    }
  ]
}