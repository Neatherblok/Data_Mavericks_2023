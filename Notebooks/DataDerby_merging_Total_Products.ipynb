{
  "nbformat": 4,
  "nbformat_minor": 0,
  "metadata": {
    "colab": {
      "provenance": []
    },
    "kernelspec": {
      "name": "python3",
      "display_name": "Python 3"
    },
    "language_info": {
      "name": "python"
    }
  },
  "cells": [
    {
      "cell_type": "code",
      "source": [
        "# IMPORT LIBRARIES\n",
        "\n",
        "import pandas as pd\n",
        "import glob\n",
        "import os"
      ],
      "metadata": {
        "id": "n_bK2yzEY2-J"
      },
      "execution_count": 1,
      "outputs": []
    },
    {
      "cell_type": "code",
      "source": [
        "# Categorize products in categories\n",
        "\n",
        "product_categories = {\n",
        "    'Fruits': ['Bananas', 'Oranges', 'Strawberries', 'Tomatoes'],\n",
        "    'Animal Products': ['Beef Chunks', 'Beef Steaks', 'Chicken', 'Eggs', 'Pork'],\n",
        "    'Grains': ['Bread', 'Flour', 'Rice'],\n",
        "    'Dairy Products': ['American Cheese', 'Cheddar Cheese', 'Milk']\n",
        "}"
      ],
      "metadata": {
        "id": "7-NbocBSbN4T"
      },
      "execution_count": 2,
      "outputs": []
    },
    {
      "cell_type": "code",
      "execution_count": 3,
      "metadata": {
        "id": "wsh9e762XN0w",
        "colab": {
          "base_uri": "https://localhost:8080/"
        },
        "outputId": "587db663-dbef-406a-e1b6-242c6347786b"
      },
      "outputs": [
        {
          "output_type": "stream",
          "name": "stdout",
          "text": [
            "['/content/oranges.csv', '/content/pork.csv', '/content/bananas.csv', '/content/beef_steaks.csv', '/content/rice.csv', '/content/beef_chunks.csv', '/content/eggs.csv', '/content/american_cheese.csv', '/content/flour.csv', '/content/chicken.csv', '/content/milk.csv', '/content/cheddar_cheese.csv', '/content/all_products.csv', '/content/strawberries.csv', '/content/bread.csv', '/content/tomatoes.csv']\n"
          ]
        }
      ],
      "source": [
        "# Save all CSV filenames in an array\n",
        "all_files = glob.glob(f\"/content/*.csv\")\n",
        "\n",
        "print(all_files)"
      ]
    },
    {
      "cell_type": "code",
      "source": [
        "# Get all dataframes and save in array \"li\"\n",
        "li = []\n",
        "\n",
        "for filename in all_files:\n",
        "    df = pd.read_csv(filename, index_col=None, header=0)\n",
        "    li.append(df)\n"
      ],
      "metadata": {
        "id": "WbTiz7SzZL4H"
      },
      "execution_count": 4,
      "outputs": []
    },
    {
      "cell_type": "code",
      "source": [
        "# Merge all product dataframes in one dataframe\n",
        "frame = pd.concat(li, axis=0, ignore_index=True)\n",
        "\n",
        "frame.shape"
      ],
      "metadata": {
        "id": "5WdaLwfNZJ9T",
        "colab": {
          "base_uri": "https://localhost:8080/"
        },
        "outputId": "568c0d79-2561-42e8-f31b-ea37dbd98b45"
      },
      "execution_count": 5,
      "outputs": [
        {
          "output_type": "execute_result",
          "data": {
            "text/plain": [
              "(9172, 4)"
            ]
          },
          "metadata": {},
          "execution_count": 5
        }
      ]
    },
    {
      "cell_type": "code",
      "source": [
        "li = []\n",
        "\n",
        "for category, product in product_categories.items():\n",
        "    # Filter the data to only include the products from a certain category\n",
        "    category_data = frame[frame['product_name'].isin(product)]\n",
        "    # Check if the filtered data is not empty\n",
        "    if not category_data.empty:\n",
        "      # Place the category name in a category column\n",
        "      category_data['category'] = category\n",
        "      # Put seperate dataframes again in array \"li\"\n",
        "      li.append(category_data)\n"
      ],
      "metadata": {
        "colab": {
          "base_uri": "https://localhost:8080/"
        },
        "id": "wBH3kh5OaeFY",
        "outputId": "83ce2cd6-5720-4496-b585-a83d04f563a5"
      },
      "execution_count": 6,
      "outputs": [
        {
          "output_type": "stream",
          "name": "stderr",
          "text": [
            "<ipython-input-6-1971ef08f442>:9: SettingWithCopyWarning: \n",
            "A value is trying to be set on a copy of a slice from a DataFrame.\n",
            "Try using .loc[row_indexer,col_indexer] = value instead\n",
            "\n",
            "See the caveats in the documentation: https://pandas.pydata.org/pandas-docs/stable/user_guide/indexing.html#returning-a-view-versus-a-copy\n",
            "  category_data['category'] = category\n",
            "<ipython-input-6-1971ef08f442>:9: SettingWithCopyWarning: \n",
            "A value is trying to be set on a copy of a slice from a DataFrame.\n",
            "Try using .loc[row_indexer,col_indexer] = value instead\n",
            "\n",
            "See the caveats in the documentation: https://pandas.pydata.org/pandas-docs/stable/user_guide/indexing.html#returning-a-view-versus-a-copy\n",
            "  category_data['category'] = category\n",
            "<ipython-input-6-1971ef08f442>:9: SettingWithCopyWarning: \n",
            "A value is trying to be set on a copy of a slice from a DataFrame.\n",
            "Try using .loc[row_indexer,col_indexer] = value instead\n",
            "\n",
            "See the caveats in the documentation: https://pandas.pydata.org/pandas-docs/stable/user_guide/indexing.html#returning-a-view-versus-a-copy\n",
            "  category_data['category'] = category\n",
            "<ipython-input-6-1971ef08f442>:9: SettingWithCopyWarning: \n",
            "A value is trying to be set on a copy of a slice from a DataFrame.\n",
            "Try using .loc[row_indexer,col_indexer] = value instead\n",
            "\n",
            "See the caveats in the documentation: https://pandas.pydata.org/pandas-docs/stable/user_guide/indexing.html#returning-a-view-versus-a-copy\n",
            "  category_data['category'] = category\n"
          ]
        }
      ]
    },
    {
      "cell_type": "code",
      "source": [
        "# Merge all product dataframes in one dataframe\n",
        "frame = pd.concat(li, axis=0, ignore_index=True)\n",
        "\n",
        "frame.shape"
      ],
      "metadata": {
        "colab": {
          "base_uri": "https://localhost:8080/"
        },
        "id": "EdUc1ve9gGxM",
        "outputId": "eb5141d5-caaf-4c44-cdb5-9bf8a766ff7f"
      },
      "execution_count": 7,
      "outputs": [
        {
          "output_type": "execute_result",
          "data": {
            "text/plain": [
              "(7687, 5)"
            ]
          },
          "metadata": {},
          "execution_count": 7
        }
      ]
    },
    {
      "cell_type": "code",
      "source": [
        "# Save dataframe to CSV\n",
        "frame.to_csv('/content/all_products.csv', index=False)"
      ],
      "metadata": {
        "id": "WeD3aZXfYuHz"
      },
      "execution_count": 9,
      "outputs": []
    }
  ]
}