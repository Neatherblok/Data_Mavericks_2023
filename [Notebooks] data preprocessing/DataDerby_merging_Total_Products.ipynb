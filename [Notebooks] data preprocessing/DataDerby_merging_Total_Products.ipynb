{
  "nbformat": 4,
  "nbformat_minor": 0,
  "metadata": {
    "colab": {
      "provenance": []
    },
    "kernelspec": {
      "name": "python3",
      "display_name": "Python 3"
    },
    "language_info": {
      "name": "python"
    }
  },
  "cells": [
    {
      "cell_type": "code",
      "source": [
        "# IMPORT LIBRARIES\n",
        "\n",
        "import pandas as pd\n",
        "import glob\n",
        "import os"
      ],
      "metadata": {
        "id": "n_bK2yzEY2-J"
      },
      "execution_count": 9,
      "outputs": []
    },
    {
      "cell_type": "code",
      "source": [
        "# Categorize products in categories\n",
        "\n",
        "product_categories = {\n",
        "    'Fruits': ['Bananas', 'Oranges', 'Strawberries', 'Tomatoes'],\n",
        "    'Animal Products': ['Beef chunks', 'Beef steaks', 'Chicken', 'Eggs', 'Pork'],\n",
        "    'Grains': ['Bread', 'Flour', 'Rice'],\n",
        "    'Dairy Products': ['American Cheese', 'Cheddar cheese', 'Milk']\n",
        "}"
      ],
      "metadata": {
        "id": "7-NbocBSbN4T"
      },
      "execution_count": 10,
      "outputs": []
    },
    {
      "cell_type": "code",
      "execution_count": 11,
      "metadata": {
        "id": "wsh9e762XN0w",
        "colab": {
          "base_uri": "https://localhost:8080/"
        },
        "outputId": "5a7f1752-9f60-42bd-9fba-2a82816140c1"
      },
      "outputs": [
        {
          "output_type": "stream",
          "name": "stdout",
          "text": [
            "['/content/oranges.csv', '/content/pork.csv', '/content/bananas.csv', '/content/beef_steaks.csv', '/content/rice.csv', '/content/beef_chunks.csv', '/content/eggs.csv', '/content/american_cheese.csv', '/content/flour.csv', '/content/chicken.csv', '/content/milk.csv', '/content/cheddar_cheese.csv', '/content/strawberries.csv', '/content/bread.csv', '/content/tomatoes.csv']\n"
          ]
        }
      ],
      "source": [
        "# Save all CSV filenames in an array\n",
        "all_files = glob.glob(f\"/content/*.csv\")\n",
        "\n",
        "print(all_files)"
      ]
    },
    {
      "cell_type": "code",
      "source": [
        "# Get all dataframes and save in array \"li\"\n",
        "li = []\n",
        "\n",
        "for filename in all_files:\n",
        "    df = pd.read_csv(filename, index_col=None, header=0)\n",
        "    li.append(df)\n"
      ],
      "metadata": {
        "id": "WbTiz7SzZL4H"
      },
      "execution_count": 12,
      "outputs": []
    },
    {
      "cell_type": "code",
      "source": [
        "# Merge all product dataframes in one dataframe\n",
        "frame = pd.concat(li, axis=0, ignore_index=True)\n",
        "\n",
        "frame.shape"
      ],
      "metadata": {
        "id": "5WdaLwfNZJ9T",
        "colab": {
          "base_uri": "https://localhost:8080/"
        },
        "outputId": "5373c260-06fa-43b2-f1e6-982bee5f3ca6"
      },
      "execution_count": 13,
      "outputs": [
        {
          "output_type": "execute_result",
          "data": {
            "text/plain": [
              "(7128, 4)"
            ]
          },
          "metadata": {},
          "execution_count": 13
        }
      ]
    },
    {
      "cell_type": "code",
      "source": [
        "li = []\n",
        "\n",
        "for category, product in product_categories.items():\n",
        "    # Filter the data to only include the products from a certain category\n",
        "    category_data = frame[frame['product_name'].isin(product)]\n",
        "    # Check if the filtered data is not empty\n",
        "    if not category_data.empty:\n",
        "      # Place the category name in a category column\n",
        "      category_data['category'] = category\n",
        "      # Put seperate dataframes again in array \"li\"\n",
        "      li.append(category_data)\n"
      ],
      "metadata": {
        "colab": {
          "base_uri": "https://localhost:8080/"
        },
        "id": "wBH3kh5OaeFY",
        "outputId": "c387b96a-2b7a-45a6-abde-bf3b104ce1b6"
      },
      "execution_count": 14,
      "outputs": [
        {
          "output_type": "stream",
          "name": "stderr",
          "text": [
            "<ipython-input-14-1971ef08f442>:9: SettingWithCopyWarning: \n",
            "A value is trying to be set on a copy of a slice from a DataFrame.\n",
            "Try using .loc[row_indexer,col_indexer] = value instead\n",
            "\n",
            "See the caveats in the documentation: https://pandas.pydata.org/pandas-docs/stable/user_guide/indexing.html#returning-a-view-versus-a-copy\n",
            "  category_data['category'] = category\n",
            "<ipython-input-14-1971ef08f442>:9: SettingWithCopyWarning: \n",
            "A value is trying to be set on a copy of a slice from a DataFrame.\n",
            "Try using .loc[row_indexer,col_indexer] = value instead\n",
            "\n",
            "See the caveats in the documentation: https://pandas.pydata.org/pandas-docs/stable/user_guide/indexing.html#returning-a-view-versus-a-copy\n",
            "  category_data['category'] = category\n",
            "<ipython-input-14-1971ef08f442>:9: SettingWithCopyWarning: \n",
            "A value is trying to be set on a copy of a slice from a DataFrame.\n",
            "Try using .loc[row_indexer,col_indexer] = value instead\n",
            "\n",
            "See the caveats in the documentation: https://pandas.pydata.org/pandas-docs/stable/user_guide/indexing.html#returning-a-view-versus-a-copy\n",
            "  category_data['category'] = category\n",
            "<ipython-input-14-1971ef08f442>:9: SettingWithCopyWarning: \n",
            "A value is trying to be set on a copy of a slice from a DataFrame.\n",
            "Try using .loc[row_indexer,col_indexer] = value instead\n",
            "\n",
            "See the caveats in the documentation: https://pandas.pydata.org/pandas-docs/stable/user_guide/indexing.html#returning-a-view-versus-a-copy\n",
            "  category_data['category'] = category\n"
          ]
        }
      ]
    },
    {
      "cell_type": "code",
      "source": [
        "# Merge all product dataframes in one dataframe\n",
        "frame = pd.concat(li, axis=0, ignore_index=True)\n",
        "\n",
        "frame.shape"
      ],
      "metadata": {
        "colab": {
          "base_uri": "https://localhost:8080/"
        },
        "id": "EdUc1ve9gGxM",
        "outputId": "2cf1f0ac-1a84-480e-f857-5846f8f964dc"
      },
      "execution_count": 15,
      "outputs": [
        {
          "output_type": "execute_result",
          "data": {
            "text/plain": [
              "(7128, 5)"
            ]
          },
          "metadata": {},
          "execution_count": 15
        }
      ]
    },
    {
      "cell_type": "code",
      "source": [
        "frame.sort_values(by=['product_name', 'year', 'month'], inplace=True)\n",
        "frame.reset_index(drop=True, inplace=True)"
      ],
      "metadata": {
        "id": "PYCacNdulC1Z"
      },
      "execution_count": 16,
      "outputs": []
    },
    {
      "cell_type": "code",
      "source": [
        "frame.head()"
      ],
      "metadata": {
        "colab": {
          "base_uri": "https://localhost:8080/",
          "height": 206
        },
        "id": "CHqaOH0PlRPZ",
        "outputId": "69b90f72-5d3d-4be7-f201-a5dabb476010"
      },
      "execution_count": 17,
      "outputs": [
        {
          "output_type": "execute_result",
          "data": {
            "text/plain": [
              "      product_name  year  month  us_city_average_retail_price        category\n",
              "0  American Cheese  1984      1                         2.485  Dairy Products\n",
              "1  American Cheese  1984      2                         2.495  Dairy Products\n",
              "2  American Cheese  1984      3                         2.493  Dairy Products\n",
              "3  American Cheese  1984      4                         2.501  Dairy Products\n",
              "4  American Cheese  1984      5                         2.472  Dairy Products"
            ],
            "text/html": [
              "\n",
              "  <div id=\"df-9b31c7bf-4f67-4f1c-ba34-f7abdb4e7912\">\n",
              "    <div class=\"colab-df-container\">\n",
              "      <div>\n",
              "<style scoped>\n",
              "    .dataframe tbody tr th:only-of-type {\n",
              "        vertical-align: middle;\n",
              "    }\n",
              "\n",
              "    .dataframe tbody tr th {\n",
              "        vertical-align: top;\n",
              "    }\n",
              "\n",
              "    .dataframe thead th {\n",
              "        text-align: right;\n",
              "    }\n",
              "</style>\n",
              "<table border=\"1\" class=\"dataframe\">\n",
              "  <thead>\n",
              "    <tr style=\"text-align: right;\">\n",
              "      <th></th>\n",
              "      <th>product_name</th>\n",
              "      <th>year</th>\n",
              "      <th>month</th>\n",
              "      <th>us_city_average_retail_price</th>\n",
              "      <th>category</th>\n",
              "    </tr>\n",
              "  </thead>\n",
              "  <tbody>\n",
              "    <tr>\n",
              "      <th>0</th>\n",
              "      <td>American Cheese</td>\n",
              "      <td>1984</td>\n",
              "      <td>1</td>\n",
              "      <td>2.485</td>\n",
              "      <td>Dairy Products</td>\n",
              "    </tr>\n",
              "    <tr>\n",
              "      <th>1</th>\n",
              "      <td>American Cheese</td>\n",
              "      <td>1984</td>\n",
              "      <td>2</td>\n",
              "      <td>2.495</td>\n",
              "      <td>Dairy Products</td>\n",
              "    </tr>\n",
              "    <tr>\n",
              "      <th>2</th>\n",
              "      <td>American Cheese</td>\n",
              "      <td>1984</td>\n",
              "      <td>3</td>\n",
              "      <td>2.493</td>\n",
              "      <td>Dairy Products</td>\n",
              "    </tr>\n",
              "    <tr>\n",
              "      <th>3</th>\n",
              "      <td>American Cheese</td>\n",
              "      <td>1984</td>\n",
              "      <td>4</td>\n",
              "      <td>2.501</td>\n",
              "      <td>Dairy Products</td>\n",
              "    </tr>\n",
              "    <tr>\n",
              "      <th>4</th>\n",
              "      <td>American Cheese</td>\n",
              "      <td>1984</td>\n",
              "      <td>5</td>\n",
              "      <td>2.472</td>\n",
              "      <td>Dairy Products</td>\n",
              "    </tr>\n",
              "  </tbody>\n",
              "</table>\n",
              "</div>\n",
              "      <button class=\"colab-df-convert\" onclick=\"convertToInteractive('df-9b31c7bf-4f67-4f1c-ba34-f7abdb4e7912')\"\n",
              "              title=\"Convert this dataframe to an interactive table.\"\n",
              "              style=\"display:none;\">\n",
              "        \n",
              "  <svg xmlns=\"http://www.w3.org/2000/svg\" height=\"24px\"viewBox=\"0 0 24 24\"\n",
              "       width=\"24px\">\n",
              "    <path d=\"M0 0h24v24H0V0z\" fill=\"none\"/>\n",
              "    <path d=\"M18.56 5.44l.94 2.06.94-2.06 2.06-.94-2.06-.94-.94-2.06-.94 2.06-2.06.94zm-11 1L8.5 8.5l.94-2.06 2.06-.94-2.06-.94L8.5 2.5l-.94 2.06-2.06.94zm10 10l.94 2.06.94-2.06 2.06-.94-2.06-.94-.94-2.06-.94 2.06-2.06.94z\"/><path d=\"M17.41 7.96l-1.37-1.37c-.4-.4-.92-.59-1.43-.59-.52 0-1.04.2-1.43.59L10.3 9.45l-7.72 7.72c-.78.78-.78 2.05 0 2.83L4 21.41c.39.39.9.59 1.41.59.51 0 1.02-.2 1.41-.59l7.78-7.78 2.81-2.81c.8-.78.8-2.07 0-2.86zM5.41 20L4 18.59l7.72-7.72 1.47 1.35L5.41 20z\"/>\n",
              "  </svg>\n",
              "      </button>\n",
              "      \n",
              "  <style>\n",
              "    .colab-df-container {\n",
              "      display:flex;\n",
              "      flex-wrap:wrap;\n",
              "      gap: 12px;\n",
              "    }\n",
              "\n",
              "    .colab-df-convert {\n",
              "      background-color: #E8F0FE;\n",
              "      border: none;\n",
              "      border-radius: 50%;\n",
              "      cursor: pointer;\n",
              "      display: none;\n",
              "      fill: #1967D2;\n",
              "      height: 32px;\n",
              "      padding: 0 0 0 0;\n",
              "      width: 32px;\n",
              "    }\n",
              "\n",
              "    .colab-df-convert:hover {\n",
              "      background-color: #E2EBFA;\n",
              "      box-shadow: 0px 1px 2px rgba(60, 64, 67, 0.3), 0px 1px 3px 1px rgba(60, 64, 67, 0.15);\n",
              "      fill: #174EA6;\n",
              "    }\n",
              "\n",
              "    [theme=dark] .colab-df-convert {\n",
              "      background-color: #3B4455;\n",
              "      fill: #D2E3FC;\n",
              "    }\n",
              "\n",
              "    [theme=dark] .colab-df-convert:hover {\n",
              "      background-color: #434B5C;\n",
              "      box-shadow: 0px 1px 3px 1px rgba(0, 0, 0, 0.15);\n",
              "      filter: drop-shadow(0px 1px 2px rgba(0, 0, 0, 0.3));\n",
              "      fill: #FFFFFF;\n",
              "    }\n",
              "  </style>\n",
              "\n",
              "      <script>\n",
              "        const buttonEl =\n",
              "          document.querySelector('#df-9b31c7bf-4f67-4f1c-ba34-f7abdb4e7912 button.colab-df-convert');\n",
              "        buttonEl.style.display =\n",
              "          google.colab.kernel.accessAllowed ? 'block' : 'none';\n",
              "\n",
              "        async function convertToInteractive(key) {\n",
              "          const element = document.querySelector('#df-9b31c7bf-4f67-4f1c-ba34-f7abdb4e7912');\n",
              "          const dataTable =\n",
              "            await google.colab.kernel.invokeFunction('convertToInteractive',\n",
              "                                                     [key], {});\n",
              "          if (!dataTable) return;\n",
              "\n",
              "          const docLinkHtml = 'Like what you see? Visit the ' +\n",
              "            '<a target=\"_blank\" href=https://colab.research.google.com/notebooks/data_table.ipynb>data table notebook</a>'\n",
              "            + ' to learn more about interactive tables.';\n",
              "          element.innerHTML = '';\n",
              "          dataTable['output_type'] = 'display_data';\n",
              "          await google.colab.output.renderOutput(dataTable, element);\n",
              "          const docLink = document.createElement('div');\n",
              "          docLink.innerHTML = docLinkHtml;\n",
              "          element.appendChild(docLink);\n",
              "        }\n",
              "      </script>\n",
              "    </div>\n",
              "  </div>\n",
              "  "
            ]
          },
          "metadata": {},
          "execution_count": 17
        }
      ]
    },
    {
      "cell_type": "code",
      "source": [
        "# Save dataframe to CSV\n",
        "frame.to_csv('/content/all_products.csv', index=False)"
      ],
      "metadata": {
        "id": "WeD3aZXfYuHz"
      },
      "execution_count": 18,
      "outputs": []
    }
  ]
}